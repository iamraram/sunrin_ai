{
  "metadata": {
    "language_info": {
      "pygments_lexer": "ipython3",
      "nbconvert_exporter": "python",
      "version": "3.6.4",
      "file_extension": ".py",
      "codemirror_mode": {
        "name": "ipython",
        "version": 3
      },
      "name": "python",
      "mimetype": "text/x-python"
    },
    "kernelspec": {
      "display_name": "Python 3",
      "name": "python3"
    },
    "colab": {
      "provenance": [],
      "gpuType": "T4"
    },
    "accelerator": "GPU"
  },
  "nbformat_minor": 0,
  "nbformat": 4,
  "cells": [
    {
      "cell_type": "code",
      "source": [
        "import numpy as np\n",
        "import pandas as pd"
      ],
      "metadata": {
        "_uuid": "8f2839f25d086af736a60e9eeb907d3b93b6e0e5",
        "_cell_guid": "b1076dfc-b9ad-4769-8c92-a6c4dae69d19",
        "trusted": true,
        "id": "sjuaCOsXxSn6"
      },
      "execution_count": null,
      "outputs": []
    },
    {
      "cell_type": "markdown",
      "source": [
        "### 검증 데이터 세트를 이용하여 학습 수행\n",
        "* 일반적으로 fit() 수행시 별도의 검증 데이터 세트를 이용하여 학습 시 과적합(Overfitting)이 발생하는지 모니터링\n",
        "* fit() iteration시 검증 데이터로 성능을 확인할 수 있다."
      ],
      "metadata": {
        "id": "Drv2I2H0xSn_"
      }
    },
    {
      "cell_type": "code",
      "source": [
        "# tf.keras에서 fashion_mnist 데이터 다운로드\n",
        "from tensorflow.keras.datasets import fashion_mnist\n",
        "\n",
        "# 전체 6만개 데이터 중, 5만개는 학습 데이터용, 1만개는 테스트 데이터용으로 분리\n",
        "(train_images, train_labels), (test_images, test_labels) = fashion_mnist.load_data()"
      ],
      "metadata": {
        "id": "qZxLy_Ly0hNh",
        "colab": {
          "base_uri": "https://localhost:8080/"
        },
        "outputId": "f260af33-61f7-4d1f-d72c-5752b11c12cb"
      },
      "execution_count": null,
      "outputs": [
        {
          "output_type": "stream",
          "name": "stdout",
          "text": [
            "Downloading data from https://storage.googleapis.com/tensorflow/tf-keras-datasets/train-labels-idx1-ubyte.gz\n",
            "29515/29515 [==============================] - 0s 0us/step\n",
            "Downloading data from https://storage.googleapis.com/tensorflow/tf-keras-datasets/train-images-idx3-ubyte.gz\n",
            "26421880/26421880 [==============================] - 2s 0us/step\n",
            "Downloading data from https://storage.googleapis.com/tensorflow/tf-keras-datasets/t10k-labels-idx1-ubyte.gz\n",
            "5148/5148 [==============================] - 0s 0us/step\n",
            "Downloading data from https://storage.googleapis.com/tensorflow/tf-keras-datasets/t10k-images-idx3-ubyte.gz\n",
            "4422102/4422102 [==============================] - 1s 0us/step\n"
          ]
        }
      ]
    },
    {
      "cell_type": "code",
      "source": [
        "# 데이터 전처리\n",
        "def data_preprocess(images, labels):\n",
        "\n",
        "    # 학습과 테스트 이미지 array를 0~1 사이값으로 scale 및 float32 형 변형.\n",
        "    images = np.array(images/255.0, dtype=np.float32)\n",
        "    labels = np.array(labels, dtype=np.float32)\n",
        "\n",
        "    return images, labels"
      ],
      "metadata": {
        "trusted": true,
        "id": "blRzo5MqxSn9"
      },
      "execution_count": null,
      "outputs": []
    },
    {
      "cell_type": "code",
      "source": [
        "# 전처리 적용\n",
        "train_images, train_labels = data_preprocess(train_images, train_labels)\n",
        "test_images, test_labels =data_preprocess(test_images, test_labels)"
      ],
      "metadata": {
        "id": "9FJPR-qJN1Qb"
      },
      "execution_count": null,
      "outputs": []
    },
    {
      "cell_type": "code",
      "source": [
        "# 기존 학습 데이터를 다시 학습과 검증 데이터 세트로 분리\n",
        "from sklearn.model_selection import train_test_split\n",
        "tr_images, val_images, tr_labels, val_labels = train_test_split(train_images, train_labels, test_size = 0.15, random_state = 2024)\n",
        "\n",
        "print('train과 validation shape:', tr_images.shape, tr_labels.shape, val_images.shape, val_labels.shape)"
      ],
      "metadata": {
        "trusted": true,
        "id": "K0T_mEQnxSn_",
        "colab": {
          "base_uri": "https://localhost:8080/"
        },
        "outputId": "3f58d9f5-b179-4199-9db2-80ad89c7c4c2"
      },
      "execution_count": null,
      "outputs": [
        {
          "output_type": "stream",
          "name": "stdout",
          "text": [
            "train과 validation shape: (51000, 28, 28) (51000,) (9000, 28, 28) (9000,)\n"
          ]
        }
      ]
    },
    {
      "cell_type": "code",
      "source": [
        "# tr_labels, val_labels에 OHE 적용\n",
        "from tensorflow.keras.utils import to_categorical\n",
        "\n",
        "tr_oh_labels = to_categorical(tr_labels)\n",
        "val_oh_labels = to_categorical(val_labels)\n",
        "\n",
        "print('after OHE:', tr_oh_labels.shape, val_oh_labels.shape)"
      ],
      "metadata": {
        "id": "7Waqcdlh0Vzp",
        "colab": {
          "base_uri": "https://localhost:8080/"
        },
        "outputId": "29bd8945-ae4c-4aff-d260-3e09ee53dec8"
      },
      "execution_count": null,
      "outputs": [
        {
          "output_type": "stream",
          "name": "stdout",
          "text": [
            "after OHE: (51000, 10) (9000, 10)\n"
          ]
        }
      ]
    },
    {
      "cell_type": "code",
      "source": [
        "from tensorflow.keras.layers import Dense, Flatten\n",
        "from tensorflow.keras.models import Sequential\n",
        "from tensorflow.keras.optimizers import Adam\n",
        "\n",
        "INPUT_SIZE = 28\n",
        "\n",
        "# Flatten, 3개의 Dense(relu, relu, softmax) 층 쌓기\n",
        "\n",
        "model = Sequential([\n",
        "    Flatten(input_shape=(INPUT_SIZE, INPUT_SIZE)),\n",
        "    Dense(100, activation='relu'),\n",
        "    Dense(30, activation='relu'),\n",
        "    Dense(10, activation='softmax')\n",
        "])"
      ],
      "metadata": {
        "trusted": true,
        "id": "ocjSSCJTxSn_"
      },
      "execution_count": null,
      "outputs": []
    },
    {
      "cell_type": "code",
      "source": [
        "# 최적화함수(Adam), 손실함수(categorical_crossentropy), 평가지표(accuracy)\n",
        "model.compile(Adam(0.01), 'categorical_crossentropy', metrics=['accuracy'])\n",
        "model.compile(optimizer='adam', loss='categorical_crossentropy', metrics=['accuracy'])"
      ],
      "metadata": {
        "id": "aXQuhbdk1S6F"
      },
      "execution_count": null,
      "outputs": []
    },
    {
      "cell_type": "markdown",
      "source": [
        "#### 검증 데이터 세트를 적용하여 학습 수행"
      ],
      "metadata": {
        "id": "KtAbchrVxSn_"
      }
    },
    {
      "cell_type": "code",
      "source": [
        "# 모델 학습(batch size=128, 검증데이터 사용, epochs=20)\n",
        "history =  model.fit(tr_images, tr_oh_labels, batch_size=128, validation_data=(val_images, val_oh_labels), epochs=20, verbose=1)"
      ],
      "metadata": {
        "id": "KeXQ5xd43zR9",
        "colab": {
          "base_uri": "https://localhost:8080/"
        },
        "outputId": "dcb9f964-b225-4cab-938c-816256d1d71f"
      },
      "execution_count": null,
      "outputs": [
        {
          "output_type": "stream",
          "name": "stdout",
          "text": [
            "Epoch 1/20\n",
            "399/399 [==============================] - 5s 6ms/step - loss: 0.6209 - accuracy: 0.7879 - val_loss: 0.4600 - val_accuracy: 0.8419\n",
            "Epoch 2/20\n",
            "399/399 [==============================] - 2s 4ms/step - loss: 0.4160 - accuracy: 0.8541 - val_loss: 0.4141 - val_accuracy: 0.8580\n",
            "Epoch 3/20\n",
            "399/399 [==============================] - 2s 4ms/step - loss: 0.3794 - accuracy: 0.8660 - val_loss: 0.3933 - val_accuracy: 0.8602\n",
            "Epoch 4/20\n",
            "399/399 [==============================] - 2s 5ms/step - loss: 0.3517 - accuracy: 0.8751 - val_loss: 0.3734 - val_accuracy: 0.8650\n",
            "Epoch 5/20\n",
            "399/399 [==============================] - 2s 5ms/step - loss: 0.3362 - accuracy: 0.8791 - val_loss: 0.3922 - val_accuracy: 0.8561\n",
            "Epoch 6/20\n",
            "399/399 [==============================] - 2s 6ms/step - loss: 0.3208 - accuracy: 0.8830 - val_loss: 0.3678 - val_accuracy: 0.8668\n",
            "Epoch 7/20\n",
            "399/399 [==============================] - 2s 4ms/step - loss: 0.3066 - accuracy: 0.8875 - val_loss: 0.3526 - val_accuracy: 0.8739\n",
            "Epoch 8/20\n",
            "399/399 [==============================] - 2s 4ms/step - loss: 0.2964 - accuracy: 0.8914 - val_loss: 0.3471 - val_accuracy: 0.8740\n",
            "Epoch 9/20\n",
            "399/399 [==============================] - 2s 4ms/step - loss: 0.2839 - accuracy: 0.8957 - val_loss: 0.3299 - val_accuracy: 0.8843\n",
            "Epoch 10/20\n",
            "399/399 [==============================] - 2s 4ms/step - loss: 0.2751 - accuracy: 0.8985 - val_loss: 0.3382 - val_accuracy: 0.8778\n",
            "Epoch 11/20\n",
            "399/399 [==============================] - 2s 4ms/step - loss: 0.2675 - accuracy: 0.9009 - val_loss: 0.3753 - val_accuracy: 0.8647\n",
            "Epoch 12/20\n",
            "399/399 [==============================] - 2s 4ms/step - loss: 0.2604 - accuracy: 0.9026 - val_loss: 0.3277 - val_accuracy: 0.8829\n",
            "Epoch 13/20\n",
            "399/399 [==============================] - 2s 5ms/step - loss: 0.2523 - accuracy: 0.9070 - val_loss: 0.3320 - val_accuracy: 0.8828\n",
            "Epoch 14/20\n",
            "399/399 [==============================] - 2s 5ms/step - loss: 0.2484 - accuracy: 0.9089 - val_loss: 0.3195 - val_accuracy: 0.8862\n",
            "Epoch 15/20\n",
            "399/399 [==============================] - 2s 4ms/step - loss: 0.2385 - accuracy: 0.9117 - val_loss: 0.3385 - val_accuracy: 0.8844\n",
            "Epoch 16/20\n",
            "399/399 [==============================] - 2s 4ms/step - loss: 0.2363 - accuracy: 0.9118 - val_loss: 0.3324 - val_accuracy: 0.8842\n",
            "Epoch 17/20\n",
            "399/399 [==============================] - 2s 4ms/step - loss: 0.2304 - accuracy: 0.9147 - val_loss: 0.3233 - val_accuracy: 0.8861\n",
            "Epoch 18/20\n",
            "399/399 [==============================] - 2s 4ms/step - loss: 0.2247 - accuracy: 0.9158 - val_loss: 0.3226 - val_accuracy: 0.8866\n",
            "Epoch 19/20\n",
            "399/399 [==============================] - 2s 4ms/step - loss: 0.2167 - accuracy: 0.9191 - val_loss: 0.3303 - val_accuracy: 0.8844\n",
            "Epoch 20/20\n",
            "399/399 [==============================] - 2s 5ms/step - loss: 0.2136 - accuracy: 0.9214 - val_loss: 0.3203 - val_accuracy: 0.8907\n"
          ]
        }
      ]
    },
    {
      "cell_type": "code",
      "source": [
        "# loss, accuracy, val_loss, val_accuracy 확인하기\n",
        "import matplotlib.pyplot as plt\n",
        "\n",
        "print(history.history['loss'])\n",
        "print(history.history['accuracy'])\n",
        "print(history.history['val_loss'])\n",
        "print(history.history['val_accuracy'])"
      ],
      "metadata": {
        "id": "oiGzgr0831Mc",
        "colab": {
          "base_uri": "https://localhost:8080/"
        },
        "outputId": "8e0a7ada-0725-4324-fa25-173e14e0261a"
      },
      "execution_count": null,
      "outputs": [
        {
          "output_type": "stream",
          "name": "stdout",
          "text": [
            "[0.6209260821342468, 0.41600582003593445, 0.3794260025024414, 0.35173431038856506, 0.33619827032089233, 0.3207620680332184, 0.3066251277923584, 0.29643961787223816, 0.2838563621044159, 0.2750706374645233, 0.26748302578926086, 0.26038867235183716, 0.25233885645866394, 0.24839581549167633, 0.23853330314159393, 0.23631435632705688, 0.23037400841712952, 0.2247329205274582, 0.21669533848762512, 0.21361249685287476]\n",
            "[0.7879215478897095, 0.8541176319122314, 0.8659999966621399, 0.8750784397125244, 0.8791176676750183, 0.8830000162124634, 0.8874902129173279, 0.8914313912391663, 0.8957450985908508, 0.8985490202903748, 0.9009019732475281, 0.9025882482528687, 0.9069607853889465, 0.9088627696037292, 0.9116863012313843, 0.9118039011955261, 0.9146862626075745, 0.9157646894454956, 0.9190980195999146, 0.9214117527008057]\n",
            "[0.4599997401237488, 0.414141982793808, 0.3933328688144684, 0.3733551800251007, 0.3921756148338318, 0.3677736520767212, 0.3526410758495331, 0.34705087542533875, 0.329938143491745, 0.3381977081298828, 0.375264436006546, 0.32768985629081726, 0.33200716972351074, 0.31950268149375916, 0.33847254514694214, 0.33238279819488525, 0.3233224153518677, 0.32257139682769775, 0.33031484484672546, 0.3203068673610687]\n",
            "[0.8418889045715332, 0.8579999804496765, 0.8602222204208374, 0.8650000095367432, 0.8561111092567444, 0.866777777671814, 0.8738889098167419, 0.8740000128746033, 0.8843333125114441, 0.8777777552604675, 0.8646666407585144, 0.882888913154602, 0.882777750492096, 0.886222243309021, 0.8844444155693054, 0.8842222094535828, 0.8861111402511597, 0.886555552482605, 0.8844444155693054, 0.890666663646698]\n"
          ]
        }
      ]
    },
    {
      "cell_type": "code",
      "source": [
        "# 훈련 데이터, 검증 데이터의 정확도 시각화\n",
        "\n",
        "import matplotlib.pyplot as plt\n",
        "\n",
        "plt.plot(history.history['accuracy'], label='TRAIN')\n",
        "plt.plot(history.history['val_accuracy'], label='VALIDATION')\n",
        "\n",
        "plt.legend()\n",
        "plt.show()\n"
      ],
      "metadata": {
        "id": "DRgZRaSS32kp",
        "colab": {
          "base_uri": "https://localhost:8080/",
          "height": 430
        },
        "outputId": "f35a613b-4941-490a-b3ad-f07c3cf9202a"
      },
      "execution_count": null,
      "outputs": [
        {
          "output_type": "display_data",
          "data": {
            "text/plain": [
              "<Figure size 640x480 with 1 Axes>"
            ],
            "image/png": "[encoded data removed]"
          },
          "metadata": {}
        }
      ]
    }
  ]
}