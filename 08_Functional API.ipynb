{
  "metadata": {
    "language_info": {
      "pygments_lexer": "ipython3",
      "nbconvert_exporter": "python",
      "version": "3.6.4",
      "file_extension": ".py",
      "codemirror_mode": {
        "name": "ipython",
        "version": 3
      },
      "name": "python",
      "mimetype": "text/x-python"
    },
    "kernelspec": {
      "display_name": "Python 3",
      "name": "python3"
    },
    "colab": {
      "provenance": [],
      "gpuType": "T4"
    },
    "accelerator": "GPU"
  },
  "nbformat_minor": 0,
  "nbformat": 4,
  "cells": [
    {
      "cell_type": "code",
      "source": [
        "import numpy as np\n",
        "import pandas as pd"
      ],
      "metadata": {
        "_uuid": "8f2839f25d086af736a60e9eeb907d3b93b6e0e5",
        "_cell_guid": "b1076dfc-b9ad-4769-8c92-a6c4dae69d19",
        "trusted": true,
        "id": "sjuaCOsXxSn6"
      },
      "execution_count": 3,
      "outputs": []
    },
    {
      "cell_type": "code",
      "source": [
        "# tf.keras에서 fashion_mnist 데이터 다운로드\n",
        "from tensorflow.keras.datasets import fashion_mnist\n",
        "\n",
        "# 전체 6만개 데이터 중, 5만개는 학습 데이터용, 1만개는 테스트 데이터용으로 분리\n",
        "(train_images, train_labels), (test_images, test_labels) = fashion_mnist.load_data()"
      ],
      "metadata": {
        "id": "qZxLy_Ly0hNh",
        "colab": {
          "base_uri": "https://localhost:8080/"
        },
        "outputId": "22d7dbce-d8cc-4667-d7c9-68b19bfad046"
      },
      "execution_count": 4,
      "outputs": [
        {
          "output_type": "stream",
          "name": "stdout",
          "text": [
            "Downloading data from https://storage.googleapis.com/tensorflow/tf-keras-datasets/train-labels-idx1-ubyte.gz\n",
            "29515/29515 [==============================] - 0s 0us/step\n",
            "Downloading data from https://storage.googleapis.com/tensorflow/tf-keras-datasets/train-images-idx3-ubyte.gz\n",
            "26421880/26421880 [==============================] - 0s 0us/step\n",
            "Downloading data from https://storage.googleapis.com/tensorflow/tf-keras-datasets/t10k-labels-idx1-ubyte.gz\n",
            "5148/5148 [==============================] - 0s 0us/step\n",
            "Downloading data from https://storage.googleapis.com/tensorflow/tf-keras-datasets/t10k-images-idx3-ubyte.gz\n",
            "4422102/4422102 [==============================] - 0s 0us/step\n"
          ]
        }
      ]
    },
    {
      "cell_type": "code",
      "source": [
        "# 데이터 전처리\n",
        "def data_preprocess(images, labels):\n",
        "\n",
        "    # 학습과 테스트 이미지 array를 0~1 사이값으로 scale 및 float32 형 변형.\n",
        "    images = np.array(images/255.0, dtype=np.float32)\n",
        "    labels = np.array(labels, dtype=np.float32)\n",
        "\n",
        "    return images, labels"
      ],
      "metadata": {
        "trusted": true,
        "id": "blRzo5MqxSn9"
      },
      "execution_count": 5,
      "outputs": []
    },
    {
      "cell_type": "code",
      "source": [
        "# 전처리 적용\n",
        "train_images, train_labels = data_preprocess(train_images, train_labels)\n",
        "test_images, test_labels = data_preprocess(test_images, test_labels)"
      ],
      "metadata": {
        "id": "9FJPR-qJN1Qb"
      },
      "execution_count": 6,
      "outputs": []
    },
    {
      "cell_type": "code",
      "source": [
        "from sklearn.model_selection import train_test_split\n",
        "from tensorflow.keras.utils import to_categorical\n",
        "\n",
        "# 기존 학습 데이터를 다시 학습과 검증 데이터 세트로 분리\n",
        "tr_images, val_images, tr_labels, val_labels = train_test_split(train_images, train_labels, test_size=0.15, random_state=2024)\n",
        "print('train과 validation shape:', tr_images.shape, tr_labels.shape, val_images.shape, val_labels.shape)"
      ],
      "metadata": {
        "trusted": true,
        "id": "K0T_mEQnxSn_",
        "colab": {
          "base_uri": "https://localhost:8080/"
        },
        "outputId": "04676ebc-4707-4082-c775-62a803355a74"
      },
      "execution_count": 7,
      "outputs": [
        {
          "output_type": "stream",
          "name": "stdout",
          "text": [
            "train과 validation shape: (51000, 28, 28) (51000,) (9000, 28, 28) (9000,)\n"
          ]
        }
      ]
    },
    {
      "cell_type": "code",
      "source": [
        "# OHE 적용\n",
        "tr_oh_labels = to_categorical(tr_labels)\n",
        "val_oh_labels = to_categorical(val_labels)\n",
        "test_oh_labels = to_categorical(test_labels)\n",
        "\n",
        "print('after OHE:', tr_oh_labels.shape, val_oh_labels.shape, test_oh_labels.shape)"
      ],
      "metadata": {
        "id": "7Waqcdlh0Vzp",
        "colab": {
          "base_uri": "https://localhost:8080/"
        },
        "outputId": "9930d325-64d8-42b7-8f08-2709c40e51ee"
      },
      "execution_count": 8,
      "outputs": [
        {
          "output_type": "stream",
          "name": "stdout",
          "text": [
            "after OHE: (51000, 10) (9000, 10) (10000, 10)\n"
          ]
        }
      ]
    },
    {
      "cell_type": "markdown",
      "source": [
        "### Functional API"
      ],
      "metadata": {
        "id": "inukTRv2xSn_"
      }
    },
    {
      "cell_type": "code",
      "source": [
        "INPUT_SIZE = 28"
      ],
      "metadata": {
        "id": "aQde_GdZkuBa"
      },
      "execution_count": 10,
      "outputs": []
    },
    {
      "cell_type": "code",
      "source": [
        "# Sequential Model을 이용하여 Keras 모델 생성 방법1\n",
        "from tensorflow.keras.layers import Dense, Flatten\n",
        "from tensorflow.keras.models import Sequential\n",
        "\n",
        "model = Sequential([\n",
        "    Flatten(input_shape=(INPUT_SIZE, INPUT_SIZE)),\n",
        "    Dense(100, activation='relu'),\n",
        "    Dense(30, activation='relu'),\n",
        "    Dense(10, activation='softmax')\n",
        "])\n",
        "\n",
        "model.summary()"
      ],
      "metadata": {
        "trusted": true,
        "id": "6E1kxLwsxSn_"
      },
      "execution_count": null,
      "outputs": []
    },
    {
      "cell_type": "code",
      "source": [
        "# Sequential Model을 이용하여 Keras 모델 생성 방법2\n",
        "model1 = Sequential()\n",
        "model1.add(Flatten(input_shape=(INPUT_SIZE, INPUT_SIZE)))\n",
        "model1.add(Dense(100, activation='relu'))\n",
        "model1.add(Dense(30, activation='relu'))\n",
        "model1.add(Dense(10, activation='softmax'))\n",
        "\n",
        "model1.summary()"
      ],
      "metadata": {
        "id": "307VTH1Jpwhu"
      },
      "execution_count": null,
      "outputs": []
    },
    {
      "cell_type": "markdown",
      "source": [
        "### ▼ 여기 ▼"
      ],
      "metadata": {
        "id": "sfKQ8D0q6tw3"
      }
    },
    {
      "cell_type": "code",
      "source": [
        "# Functional API Model을 이용하여 Keras 모델 생성\n",
        "from tensorflow.keras.layers import Input, Flatten, Dense\n",
        "from tensorflow.keras.models import Model\n",
        "\n",
        "input_tensor = Input(shape=(INPUT_SIZE, INPUT_SIZE))\n",
        "x = Flatten()(input_tensor)\n",
        "x = Dense(100, activation='relu')(x)\n",
        "x = Dense(30, activation='relu')(x)\n",
        "output = Dense(10, activation='softmax')(x)\n",
        "\n",
        "model = Model(inputs=input_tensor, outputs=output)\n",
        "model.summary()"
      ],
      "metadata": {
        "trusted": true,
        "id": "ioXyud0LxSoA",
        "colab": {
          "base_uri": "https://localhost:8080/"
        },
        "outputId": "de29981f-0738-4625-eed8-6d1259008ee0"
      },
      "execution_count": 11,
      "outputs": [
        {
          "output_type": "stream",
          "name": "stdout",
          "text": [
            "Model: \"model\"\n",
            "_________________________________________________________________\n",
            " Layer (type)                Output Shape              Param #   \n",
            "=================================================================\n",
            " input_1 (InputLayer)        [(None, 28, 28)]          0         \n",
            "                                                                 \n",
            " flatten (Flatten)           (None, 784)               0         \n",
            "                                                                 \n",
            " dense (Dense)               (None, 100)               78500     \n",
            "                                                                 \n",
            " dense_1 (Dense)             (None, 30)                3030      \n",
            "                                                                 \n",
            " dense_2 (Dense)             (None, 10)                310       \n",
            "                                                                 \n",
            "=================================================================\n",
            "Total params: 81840 (319.69 KB)\n",
            "Trainable params: 81840 (319.69 KB)\n",
            "Non-trainable params: 0 (0.00 Byte)\n",
            "_________________________________________________________________\n"
          ]
        }
      ]
    },
    {
      "cell_type": "code",
      "source": [
        "# optimizer, loss, metric 적용\n",
        "from tensorflow.keras.optimizers import Adam\n",
        "\n",
        "model.compile(optimizer=Adam(0.001), loss='categorical_crossentropy', metrics=['accuracy'])"
      ],
      "metadata": {
        "trusted": true,
        "id": "e5I8d9IFxSoB"
      },
      "execution_count": 12,
      "outputs": []
    },
    {
      "cell_type": "code",
      "source": [
        "# 학습 수행\n",
        "history = model.fit(x=tr_images, y=tr_oh_labels, batch_size=128, epochs=20, validation_data=(val_images, val_oh_labels))"
      ],
      "metadata": {
        "trusted": true,
        "id": "y0T7jQvyxSoB",
        "colab": {
          "base_uri": "https://localhost:8080/"
        },
        "outputId": "7368c11c-c77a-496d-b6af-c478c51faa1f"
      },
      "execution_count": 13,
      "outputs": [
        {
          "output_type": "stream",
          "name": "stdout",
          "text": [
            "Epoch 1/20\n",
            "399/399 [==============================] - 4s 4ms/step - loss: 0.6033 - accuracy: 0.7922 - val_loss: 0.4536 - val_accuracy: 0.8381\n",
            "Epoch 2/20\n",
            "399/399 [==============================] - 2s 4ms/step - loss: 0.4149 - accuracy: 0.8523 - val_loss: 0.4093 - val_accuracy: 0.8538\n",
            "Epoch 3/20\n",
            "399/399 [==============================] - 2s 5ms/step - loss: 0.3801 - accuracy: 0.8650 - val_loss: 0.4086 - val_accuracy: 0.8570\n",
            "Epoch 4/20\n",
            "399/399 [==============================] - 2s 4ms/step - loss: 0.3527 - accuracy: 0.8722 - val_loss: 0.3726 - val_accuracy: 0.8668\n",
            "Epoch 5/20\n",
            "399/399 [==============================] - 1s 3ms/step - loss: 0.3347 - accuracy: 0.8788 - val_loss: 0.3597 - val_accuracy: 0.8659\n",
            "Epoch 6/20\n",
            "399/399 [==============================] - 1s 4ms/step - loss: 0.3187 - accuracy: 0.8843 - val_loss: 0.3458 - val_accuracy: 0.8724\n",
            "Epoch 7/20\n",
            "399/399 [==============================] - 1s 4ms/step - loss: 0.3053 - accuracy: 0.8891 - val_loss: 0.3315 - val_accuracy: 0.8773\n",
            "Epoch 8/20\n",
            "399/399 [==============================] - 1s 3ms/step - loss: 0.2952 - accuracy: 0.8925 - val_loss: 0.3480 - val_accuracy: 0.8769\n",
            "Epoch 9/20\n",
            "399/399 [==============================] - 1s 4ms/step - loss: 0.2816 - accuracy: 0.8957 - val_loss: 0.3448 - val_accuracy: 0.8751\n",
            "Epoch 10/20\n",
            "399/399 [==============================] - 2s 4ms/step - loss: 0.2716 - accuracy: 0.8995 - val_loss: 0.3272 - val_accuracy: 0.8838\n",
            "Epoch 11/20\n",
            "399/399 [==============================] - 2s 5ms/step - loss: 0.2642 - accuracy: 0.9038 - val_loss: 0.3143 - val_accuracy: 0.8852\n",
            "Epoch 12/20\n",
            "399/399 [==============================] - 1s 4ms/step - loss: 0.2578 - accuracy: 0.9043 - val_loss: 0.3165 - val_accuracy: 0.8871\n",
            "Epoch 13/20\n",
            "399/399 [==============================] - 1s 3ms/step - loss: 0.2507 - accuracy: 0.9065 - val_loss: 0.3388 - val_accuracy: 0.8740\n",
            "Epoch 14/20\n",
            "399/399 [==============================] - 1s 4ms/step - loss: 0.2410 - accuracy: 0.9109 - val_loss: 0.3252 - val_accuracy: 0.8849\n",
            "Epoch 15/20\n",
            "399/399 [==============================] - 1s 4ms/step - loss: 0.2367 - accuracy: 0.9116 - val_loss: 0.3203 - val_accuracy: 0.8890\n",
            "Epoch 16/20\n",
            "399/399 [==============================] - 1s 3ms/step - loss: 0.2298 - accuracy: 0.9148 - val_loss: 0.3227 - val_accuracy: 0.8869\n",
            "Epoch 17/20\n",
            "399/399 [==============================] - 2s 4ms/step - loss: 0.2241 - accuracy: 0.9164 - val_loss: 0.3185 - val_accuracy: 0.8870\n",
            "Epoch 18/20\n",
            "399/399 [==============================] - 2s 4ms/step - loss: 0.2170 - accuracy: 0.9192 - val_loss: 0.3338 - val_accuracy: 0.8844\n",
            "Epoch 19/20\n",
            "399/399 [==============================] - 2s 5ms/step - loss: 0.2153 - accuracy: 0.9189 - val_loss: 0.3367 - val_accuracy: 0.8808\n",
            "Epoch 20/20\n",
            "399/399 [==============================] - 2s 4ms/step - loss: 0.2081 - accuracy: 0.9227 - val_loss: 0.3355 - val_accuracy: 0.8841\n"
          ]
        }
      ]
    },
    {
      "cell_type": "code",
      "source": [
        "import matplotlib.pyplot as plt\n",
        "%matplotlib inline\n",
        "\n",
        "def show_history(history):\n",
        "    plt.plot(history.history['accuracy'], label='train')\n",
        "    plt.plot(history.history['val_accuracy'], label='valid')\n",
        "    plt.legend()\n",
        "\n",
        "show_history(history)"
      ],
      "metadata": {
        "trusted": true,
        "id": "YnrNre-KxSoB",
        "colab": {
          "base_uri": "https://localhost:8080/",
          "height": 430
        },
        "outputId": "34b623ba-1117-45a3-943b-fab0dd7002b4"
      },
      "execution_count": 14,
      "outputs": [
        {
          "output_type": "display_data",
          "data": {
            "text/plain": [
              "<Figure size 640x480 with 1 Axes>"
            ],
            "image/png": "[encoded data removed]"
          },
          "metadata": {}
        }
      ]
    },
    {
      "cell_type": "code",
      "source": [],
      "metadata": {
        "id": "CYQw3Hw3R1aB"
      },
      "execution_count": null,
      "outputs": []
    },
    {
      "cell_type": "code",
      "source": [
        "# 테스트 데이터 세트로 모델 성능 검증\n",
        "model.evaluate(test_images, test_oh_labels, batch_size=256, verbose=1)"
      ],
      "metadata": {
        "trusted": true,
        "id": "FGUyCS6WxSoB",
        "colab": {
          "base_uri": "https://localhost:8080/"
        },
        "outputId": "c82309d1-626f-475c-f9fc-16cdecfb9df8"
      },
      "execution_count": 15,
      "outputs": [
        {
          "output_type": "stream",
          "name": "stdout",
          "text": [
            "40/40 [==============================] - 0s 3ms/step - loss: 0.3537 - accuracy: 0.8767\n"
          ]
        },
        {
          "output_type": "execute_result",
          "data": {
            "text/plain": [
              "[0.3537188768386841, 0.8766999840736389]"
            ]
          },
          "metadata": {},
          "execution_count": 15
        }
      ]
    }
  ]
}