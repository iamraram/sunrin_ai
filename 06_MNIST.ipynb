{
  "metadata": {
    "language_info": {
      "pygments_lexer": "ipython3",
      "nbconvert_exporter": "python",
      "version": "3.6.4",
      "file_extension": ".py",
      "codemirror_mode": {
        "name": "ipython",
        "version": 3
      },
      "name": "python",
      "mimetype": "text/x-python"
    },
    "kernelspec": {
      "language": "python",
      "display_name": "Python 3",
      "name": "python3"
    },
    "colab": {
      "provenance": []
    }
  },
  "nbformat_minor": 0,
  "nbformat": 4,
  "cells": [
    {
      "cell_type": "code",
      "source": [
        "import numpy as np\n",
        "import pandas as pd"
      ],
      "metadata": {
        "_uuid": "8f2839f25d086af736a60e9eeb907d3b93b6e0e5",
        "_cell_guid": "b1076dfc-b9ad-4769-8c92-a6c4dae69d19",
        "trusted": true,
        "id": "sjuaCOsXxSn6"
      },
      "execution_count": null,
      "outputs": []
    },
    {
      "cell_type": "markdown",
      "source": [
        "### Keras fashion mnist dataset을 다운로드\n",
        "* 5만개의 학습용, 1만개의 테스트용 grayscale image array를 다운로드"
      ],
      "metadata": {
        "id": "fGfojlS-xSn7"
      }
    },
    {
      "cell_type": "code",
      "source": [
        "# tf.keras에서 fashion_mnist 데이터 다운로드\n",
        "from tensorflow.keras.datasets import fashion_mnist\n",
        "\n",
        "# 전체 7만개 데이터 중, 6만개는 학습 데이터용, 1만개는 테스트 데이터용으로 분리\n",
        "(train_images, train_labels), (test_images, test_labels) = fashion_mnist.load_data()"
      ],
      "metadata": {
        "trusted": true,
        "id": "JcYafMyexSn8",
        "colab": {
          "base_uri": "https://localhost:8080/"
        },
        "outputId": "ccb99625-bdb0-4420-9549-4cebdc7e378f"
      },
      "execution_count": null,
      "outputs": [
        {
          "output_type": "stream",
          "name": "stdout",
          "text": [
            "Downloading data from https://storage.googleapis.com/tensorflow/tf-keras-datasets/train-labels-idx1-ubyte.gz\n",
            "29515/29515 [==============================] - 0s 0us/step\n",
            "Downloading data from https://storage.googleapis.com/tensorflow/tf-keras-datasets/train-images-idx3-ubyte.gz\n",
            "26421880/26421880 [==============================] - 0s 0us/step\n",
            "Downloading data from https://storage.googleapis.com/tensorflow/tf-keras-datasets/t10k-labels-idx1-ubyte.gz\n",
            "5148/5148 [==============================] - 0s 0us/step\n",
            "Downloading data from https://storage.googleapis.com/tensorflow/tf-keras-datasets/t10k-images-idx3-ubyte.gz\n",
            "4422102/4422102 [==============================] - 0s 0us/step\n"
          ]
        }
      ]
    },
    {
      "cell_type": "code",
      "source": [
        "# image size는 28x28의 grayscale 2차원 데이터, label은 1차원\n",
        "print(\"train dataset shape:\", train_images.shape, train_labels.shape)\n",
        "print(\"test dataset shape:\", test_images.shape, test_labels.shape)"
      ],
      "metadata": {
        "id": "DwFDui86NWtn",
        "colab": {
          "base_uri": "https://localhost:8080/"
        },
        "outputId": "22a756fb-d4b0-4d54-efce-8aaacfcdec81"
      },
      "execution_count": null,
      "outputs": [
        {
          "output_type": "stream",
          "name": "stdout",
          "text": [
            "train dataset shape: (60000, 28, 28) (60000,)\n",
            "test dataset shape: (10000, 28, 28) (10000,)\n"
          ]
        }
      ]
    },
    {
      "cell_type": "code",
      "source": [
        "# 첫번째 이미지 데이터 출력\n",
        "# print(train_images[0])\n",
        "\n",
        "import matplotlib.pyplot as plt\n",
        "\n",
        "plt.imshow(train_images[0], cmap='gray')\n",
        "plt.title(train_labels[0])"
      ],
      "metadata": {
        "trusted": true,
        "id": "m-YqbOn1xSn9",
        "colab": {
          "base_uri": "https://localhost:8080/",
          "height": 471
        },
        "outputId": "00dec539-4367-43cc-ee93-c5fc6c220710"
      },
      "execution_count": null,
      "outputs": [
        {
          "output_type": "execute_result",
          "data": {
            "text/plain": [
              "Text(0.5, 1.0, '9')"
            ]
          },
          "metadata": {},
          "execution_count": 4
        },
        {
          "output_type": "display_data",
          "data": {
            "text/plain": [
              "<Figure size 640x480 with 1 Axes>"
            ],
            "image/png": "[encoded data removed]"
          },
          "metadata": {}
        }
      ]
    },
    {
      "cell_type": "code",
      "source": [
        "# 첫번째 이미지 데이터의 label 출력\n"
      ],
      "metadata": {
        "id": "XljAdNyENmjL"
      },
      "execution_count": null,
      "outputs": []
    },
    {
      "cell_type": "markdown",
      "source": [
        "### MNIST image array 시각화"
      ],
      "metadata": {
        "id": "Kfoka7F_xSn8"
      }
    },
    {
      "cell_type": "code",
      "source": [
        "# matplotlib 라이브러리로 train 이미지의 첫번째 데이터 출력\n"
      ],
      "metadata": {
        "trusted": true,
        "id": "MASyXrssxSn9"
      },
      "execution_count": null,
      "outputs": []
    },
    {
      "cell_type": "code",
      "source": [
        "# 8개의 subplot으로 이미지 출력\n",
        "class_names = ['T-shirt/top', 'Trouser', 'Pullover', 'Dress', 'Coat','Sandal', 'Shirt', 'Sneaker', 'Bag', 'Ankle boot']\n",
        "\n",
        "def show_images(images, labels, ncols=8):\n",
        "    figure, axs = plt.subplots(figsize=(22, 6), nrows=1, ncols=ncols)\n",
        "    for i in range(ncols):\n",
        "        axs[i].imshow(images[i], cmap='gray')\n",
        "        axs[i].set_title(class_names[labels[i]])\n",
        "\n",
        "show_images(train_images[:8], train_labels[:8], ncols=8)\n",
        "show_images(train_images[8:16], train_labels[8:16], ncols=8)"
      ],
      "metadata": {
        "trusted": true,
        "id": "r9dVcvEGxSn9",
        "colab": {
          "base_uri": "https://localhost:8080/",
          "height": 474
        },
        "outputId": "6de92107-621b-4f97-9fa2-0add5e98af80"
      },
      "execution_count": null,
      "outputs": [
        {
          "output_type": "display_data",
          "data": {
            "text/plain": [
              "<Figure size 2200x600 with 8 Axes>"
            ],
            "image/png": "[encoded data removed]"
          },
          "metadata": {}
        },
        {
          "output_type": "display_data",
          "data": {
            "text/plain": [
              "<Figure size 2200x600 with 8 Axes>"
            ],
            "image/png": "[encoded data removed]"
          },
          "metadata": {}
        }
      ]
    },
    {
      "cell_type": "markdown",
      "source": [
        "### 데이터 전처리 수행\n",
        "* 0 ~ 255 사이의 픽셀값을 0 ~ 1 사이 값으로 변환\n",
        "* array type은 float 32로 변환"
      ],
      "metadata": {
        "id": "n-ta12U2xSn9"
      }
    },
    {
      "cell_type": "code",
      "source": [
        "import numpy as np\n",
        "\n",
        "# 데이터 전처리 함수\n",
        "def data_preprocess(images, labels):\n",
        "\n",
        "    # 이미지 array를 0~1 사이값으로 scale 및 float32 형 변형\n",
        "    images = np.array(images/255.0, dtype=np.float32)\n",
        "\n",
        "    # 이미지 label을 float32 형 변형\n",
        "    labels = np.array(labels, dtype=np.float32)\n",
        "\n",
        "    return images, labels"
      ],
      "metadata": {
        "trusted": true,
        "id": "blRzo5MqxSn9"
      },
      "execution_count": null,
      "outputs": []
    },
    {
      "cell_type": "code",
      "source": [
        "# 훈련용, 테스트용 데이터에 전처리 적용\n",
        "train_images, train_labels = data_preprocess(train_images, train_labels)\n",
        "test_images, test_labels = data_preprocess(test_images, test_labels)"
      ],
      "metadata": {
        "id": "9FJPR-qJN1Qb"
      },
      "execution_count": null,
      "outputs": []
    },
    {
      "cell_type": "code",
      "source": [
        "# 전처리 결과 확인\n",
        "print(train_images, train_labels)"
      ],
      "metadata": {
        "id": "GV-E8p9FN2Ry",
        "colab": {
          "base_uri": "https://localhost:8080/"
        },
        "outputId": "800a931e-d127-46ac-b907-eef0a0e4440b"
      },
      "execution_count": null,
      "outputs": [
        {
          "output_type": "stream",
          "name": "stdout",
          "text": [
            "[[[0. 0. 0. ... 0. 0. 0.]\n",
            "  [0. 0. 0. ... 0. 0. 0.]\n",
            "  [0. 0. 0. ... 0. 0. 0.]\n",
            "  ...\n",
            "  [0. 0. 0. ... 0. 0. 0.]\n",
            "  [0. 0. 0. ... 0. 0. 0.]\n",
            "  [0. 0. 0. ... 0. 0. 0.]]\n",
            "\n",
            " [[0. 0. 0. ... 0. 0. 0.]\n",
            "  [0. 0. 0. ... 0. 0. 0.]\n",
            "  [0. 0. 0. ... 0. 0. 0.]\n",
            "  ...\n",
            "  [0. 0. 0. ... 0. 0. 0.]\n",
            "  [0. 0. 0. ... 0. 0. 0.]\n",
            "  [0. 0. 0. ... 0. 0. 0.]]\n",
            "\n",
            " [[0. 0. 0. ... 0. 0. 0.]\n",
            "  [0. 0. 0. ... 0. 0. 0.]\n",
            "  [0. 0. 0. ... 0. 0. 0.]\n",
            "  ...\n",
            "  [0. 0. 0. ... 0. 0. 0.]\n",
            "  [0. 0. 0. ... 0. 0. 0.]\n",
            "  [0. 0. 0. ... 0. 0. 0.]]\n",
            "\n",
            " ...\n",
            "\n",
            " [[0. 0. 0. ... 0. 0. 0.]\n",
            "  [0. 0. 0. ... 0. 0. 0.]\n",
            "  [0. 0. 0. ... 0. 0. 0.]\n",
            "  ...\n",
            "  [0. 0. 0. ... 0. 0. 0.]\n",
            "  [0. 0. 0. ... 0. 0. 0.]\n",
            "  [0. 0. 0. ... 0. 0. 0.]]\n",
            "\n",
            " [[0. 0. 0. ... 0. 0. 0.]\n",
            "  [0. 0. 0. ... 0. 0. 0.]\n",
            "  [0. 0. 0. ... 0. 0. 0.]\n",
            "  ...\n",
            "  [0. 0. 0. ... 0. 0. 0.]\n",
            "  [0. 0. 0. ... 0. 0. 0.]\n",
            "  [0. 0. 0. ... 0. 0. 0.]]\n",
            "\n",
            " [[0. 0. 0. ... 0. 0. 0.]\n",
            "  [0. 0. 0. ... 0. 0. 0.]\n",
            "  [0. 0. 0. ... 0. 0. 0.]\n",
            "  ...\n",
            "  [0. 0. 0. ... 0. 0. 0.]\n",
            "  [0. 0. 0. ... 0. 0. 0.]\n",
            "  [0. 0. 0. ... 0. 0. 0.]]] [9. 0. 0. ... 3. 0. 5.]\n"
          ]
        }
      ]
    },
    {
      "cell_type": "code",
      "source": [
        "# categorical_crossentropy를 사용하기 위해 반드시 Label을 원핫인코딩 필요\n",
        "from tensorflow.keras.utils import to_categorical\n",
        "\n",
        "train_oh_labels = to_categorical(train_labels)\n",
        "test_oh_labels = to_categorical(test_labels)\n",
        "\n",
        "# 기존 label과 인코딩 된 label shape 비교\n",
        "print(train_labels.shape, test_labels.shape)\n",
        "print(train_oh_labels.shape, test_oh_labels.shape)"
      ],
      "metadata": {
        "trusted": true,
        "id": "3Kog_HcRxSn-",
        "colab": {
          "base_uri": "https://localhost:8080/"
        },
        "outputId": "84be42dd-891b-401d-ce4a-d7ea092203d4"
      },
      "execution_count": null,
      "outputs": [
        {
          "output_type": "stream",
          "name": "stdout",
          "text": [
            "(60000,) (10000,)\n",
            "(60000, 10) (10000, 10)\n"
          ]
        }
      ]
    },
    {
      "cell_type": "markdown",
      "source": [
        "### Dense Layer를 기반으로 모델을 생성"
      ],
      "metadata": {
        "id": "JiQ55JlrxSn9"
      }
    },
    {
      "cell_type": "code",
      "source": [
        "# 이미지 크기에 해당하는 상수 생성\n",
        "INPUT_SIZE = 28"
      ],
      "metadata": {
        "trusted": true,
        "id": "J_IDcwpKxSn-"
      },
      "execution_count": null,
      "outputs": []
    },
    {
      "cell_type": "code",
      "source": [
        "# Flatten, 3개의 Dense(relu, relu, softmax) 층 쌓기\n",
        "from tensorflow.keras.layers import Dense, Flatten\n",
        "from tensorflow.keras.models import Sequential\n",
        "\n",
        "model = Sequential([\n",
        "    Flatten(input_shape=(INPUT_SIZE, INPUT_SIZE)),\n",
        "    Dense(100, activation='relu', name='first'),\n",
        "    Dense(30, activation='relu', name='second'),\n",
        "    Dense(10, activation='softmax', name='third')\n",
        "])\n",
        "\n",
        "model.summary()\n"
      ],
      "metadata": {
        "trusted": true,
        "id": "0I6w3t1kxSn-",
        "colab": {
          "base_uri": "https://localhost:8080/"
        },
        "outputId": "3cf8cfd1-1589-476e-b05c-6c4e1477b065"
      },
      "execution_count": null,
      "outputs": [
        {
          "output_type": "stream",
          "name": "stdout",
          "text": [
            "Model: \"sequential\"\n",
            "_________________________________________________________________\n",
            " Layer (type)                Output Shape              Param #   \n",
            "=================================================================\n",
            " flatten (Flatten)           (None, 784)               0         \n",
            "                                                                 \n",
            " first (Dense)               (None, 100)               78500     \n",
            "                                                                 \n",
            " second (Dense)              (None, 30)                3030      \n",
            "                                                                 \n",
            " third (Dense)               (None, 10)                310       \n",
            "                                                                 \n",
            "=================================================================\n",
            "Total params: 81840 (319.69 KB)\n",
            "Trainable params: 81840 (319.69 KB)\n",
            "Non-trainable params: 0 (0.00 Byte)\n",
            "_________________________________________________________________\n"
          ]
        }
      ]
    },
    {
      "cell_type": "markdown",
      "source": [
        "### 모델의 Loss와 Optimizer를 설정하고 학습 수행\n"
      ],
      "metadata": {
        "id": "6hf0PPb2xSn-"
      }
    },
    {
      "cell_type": "code",
      "source": [
        "# optimizer는 Adam으로 설정, loss는 categorical_crossentropy로, 평가지표는 accuracyf\n",
        "from tensorflow.keras.optimizers import Adam\n",
        "from tensorflow.keras.losses import CategoricalCrossentropy\n",
        "from tensorflow.keras.metrics import Accuracy\n",
        "\n",
        "model.compile(optimizer=Adam(0.01), loss='categorical_crossentropy', metrics=['accuracy'])"
      ],
      "metadata": {
        "trusted": true,
        "id": "zhTq_CYNxSn-"
      },
      "execution_count": null,
      "outputs": []
    },
    {
      "cell_type": "code",
      "source": [
        "# 6만개의 28*28 이미지로 모델을 학습하고, 학습 이력을 저장\n",
        "history = model.fit(\n",
        "    train_images, train_oh_labels, batch_size=32, epochs=20, verbose=1\n",
        ")"
      ],
      "metadata": {
        "trusted": true,
        "id": "4oYrlBrlxSn-",
        "colab": {
          "base_uri": "https://localhost:8080/"
        },
        "outputId": "2b4d3ae5-7893-482d-ce0b-ed0d4742ed35"
      },
      "execution_count": null,
      "outputs": [
        {
          "output_type": "stream",
          "name": "stdout",
          "text": [
            "Epoch 1/20\n",
            "1875/1875 [==============================] - 6s 3ms/step - loss: 0.5550 - accuracy: 0.8008\n",
            "Epoch 2/20\n",
            "1875/1875 [==============================] - 4s 2ms/step - loss: 0.4406 - accuracy: 0.8433\n",
            "Epoch 3/20\n",
            "1875/1875 [==============================] - 5s 2ms/step - loss: 0.4183 - accuracy: 0.8518\n",
            "Epoch 4/20\n",
            "1875/1875 [==============================] - 5s 3ms/step - loss: 0.4067 - accuracy: 0.8566\n",
            "Epoch 5/20\n",
            "1875/1875 [==============================] - 5s 3ms/step - loss: 0.3944 - accuracy: 0.8614\n",
            "Epoch 6/20\n",
            "1875/1875 [==============================] - 6s 3ms/step - loss: 0.3883 - accuracy: 0.8614\n",
            "Epoch 7/20\n",
            "1875/1875 [==============================] - 4s 2ms/step - loss: 0.3751 - accuracy: 0.8663\n",
            "Epoch 8/20\n",
            "1875/1875 [==============================] - 4s 2ms/step - loss: 0.3732 - accuracy: 0.8680\n",
            "Epoch 9/20\n",
            "1875/1875 [==============================] - 5s 3ms/step - loss: 0.3677 - accuracy: 0.8697\n",
            "Epoch 10/20\n",
            "1875/1875 [==============================] - 4s 2ms/step - loss: 0.3605 - accuracy: 0.8730\n",
            "Epoch 11/20\n",
            "1875/1875 [==============================] - 5s 3ms/step - loss: 0.3669 - accuracy: 0.8705\n",
            "Epoch 12/20\n",
            "1875/1875 [==============================] - 5s 3ms/step - loss: 0.3627 - accuracy: 0.8728\n",
            "Epoch 13/20\n",
            "1875/1875 [==============================] - 5s 3ms/step - loss: 0.3585 - accuracy: 0.8746\n",
            "Epoch 14/20\n",
            "1875/1875 [==============================] - 5s 3ms/step - loss: 0.3510 - accuracy: 0.8764\n",
            "Epoch 15/20\n",
            "1875/1875 [==============================] - 4s 2ms/step - loss: 0.3450 - accuracy: 0.8798\n",
            "Epoch 16/20\n",
            "1875/1875 [==============================] - 5s 3ms/step - loss: 0.3531 - accuracy: 0.8781\n",
            "Epoch 17/20\n",
            "1875/1875 [==============================] - 4s 2ms/step - loss: 0.3444 - accuracy: 0.8794\n",
            "Epoch 18/20\n",
            "1875/1875 [==============================] - 4s 2ms/step - loss: 0.3495 - accuracy: 0.8790\n",
            "Epoch 19/20\n",
            "1875/1875 [==============================] - 5s 3ms/step - loss: 0.3548 - accuracy: 0.8777\n",
            "Epoch 20/20\n",
            "1875/1875 [==============================] - 4s 2ms/step - loss: 0.3326 - accuracy: 0.8826\n"
          ]
        }
      ]
    },
    {
      "cell_type": "code",
      "source": [
        "# history 객체 안에 history 딕셔너리 확인 - 'loss'\n",
        "for i in history.history['loss']:\n",
        "  print(i)"
      ],
      "metadata": {
        "trusted": true,
        "id": "xLbanc3xxSn-",
        "colab": {
          "base_uri": "https://localhost:8080/"
        },
        "outputId": "c4e131d1-550e-41b7-f069-0fad008b8992"
      },
      "execution_count": null,
      "outputs": [
        {
          "output_type": "stream",
          "name": "stdout",
          "text": [
            "0.5550111532211304\n",
            "0.440595418214798\n",
            "0.4182567596435547\n",
            "0.4066668748855591\n",
            "0.39438727498054504\n",
            "0.3882542848587036\n",
            "0.375103622674942\n",
            "0.37317797541618347\n",
            "0.3676642179489136\n",
            "0.36050641536712646\n",
            "0.36690112948417664\n",
            "0.36266404390335083\n",
            "0.3584822118282318\n",
            "0.35101979970932007\n",
            "0.34502625465393066\n",
            "0.35310012102127075\n",
            "0.3444158434867859\n",
            "0.34954455494880676\n",
            "0.3548141419887543\n",
            "0.3326075077056885\n"
          ]
        }
      ]
    },
    {
      "cell_type": "code",
      "source": [
        "# history 객체 안에 history 딕셔너리 확인 - 'accuracy'\n",
        "for i in history.history['accuracy']:\n",
        "  print(i)"
      ],
      "metadata": {
        "id": "Pkt28ufGJdYd",
        "colab": {
          "base_uri": "https://localhost:8080/"
        },
        "outputId": "e794c1c0-15f6-4e6e-b393-0aae074c39eb"
      },
      "execution_count": null,
      "outputs": [
        {
          "output_type": "stream",
          "name": "stdout",
          "text": [
            "0.80076664686203\n",
            "0.8433499932289124\n",
            "0.8518166542053223\n",
            "0.8565999865531921\n",
            "0.861383318901062\n",
            "0.8614166378974915\n",
            "0.8663333058357239\n",
            "0.8680333495140076\n",
            "0.8697333335876465\n",
            "0.873033344745636\n",
            "0.8705499768257141\n",
            "0.8728166818618774\n",
            "0.8746166825294495\n",
            "0.8764166831970215\n",
            "0.8797833323478699\n",
            "0.8781333565711975\n",
            "0.8794166445732117\n",
            "0.879016637802124\n",
            "0.8776999711990356\n",
            "0.8825500011444092\n"
          ]
        }
      ]
    },
    {
      "cell_type": "markdown",
      "source": [
        "### 테스트 데이터를 기반으로 Label 값 예측\n",
        "* model.predict()를 이용하여 label값 예측\n",
        "* predict()의 인자로 입력되는 feature array는 학습의 feature array와 shape가 동일해야함.\n",
        "* fit() 시 3차원(28x28 2차원 array가 여러개 존재) array 입력 했으므로 predict()도 동일한 3차원 데이터 입력\n",
        "* 특히 한건만 predict() 할때도 3차원 데이터여야 함. 이를 위해 expand_dims()로 2차원 image 배열을 3차원으로 변경"
      ],
      "metadata": {
        "id": "Yq89sbBQxSn-"
      }
    },
    {
      "cell_type": "code",
      "source": [
        "# 10,000개의 test 이미지로 예측\n",
        "pred = model.predict(test_images)"
      ],
      "metadata": {
        "trusted": true,
        "id": "e_LrIV2DxSn-",
        "colab": {
          "base_uri": "https://localhost:8080/"
        },
        "outputId": "e1ef360a-7f14-4820-fd4c-6ccbbcd5504b"
      },
      "execution_count": null,
      "outputs": [
        {
          "output_type": "stream",
          "name": "stdout",
          "text": [
            "313/313 [==============================] - 1s 2ms/step\n"
          ]
        }
      ]
    },
    {
      "cell_type": "code",
      "source": [
        "pred[0]"
      ],
      "metadata": {
        "colab": {
          "base_uri": "https://localhost:8080/"
        },
        "id": "A0kFAKmHKxf3",
        "outputId": "ebc8ae24-6e7b-4e8d-fe68-0e42fa426e24"
      },
      "execution_count": null,
      "outputs": [
        {
          "output_type": "execute_result",
          "data": {
            "text/plain": [
              "array([3.0295617e-19, 9.4388746e-16, 0.0000000e+00, 1.2710967e-19,\n",
              "       4.6345282e-21, 2.1684323e-02, 5.2192121e-07, 6.4725084e-03,\n",
              "       5.2843723e-07, 9.7184205e-01], dtype=float32)"
            ]
          },
          "metadata": {},
          "execution_count": 32
        }
      ]
    },
    {
      "cell_type": "code",
      "source": [
        "# 0번 클래스일 확률 ~ 9번 클래스일 확률\n"
      ],
      "metadata": {
        "id": "0sjgyDZXKept"
      },
      "execution_count": null,
      "outputs": []
    },
    {
      "cell_type": "markdown",
      "source": [
        "###한 개의 이미지만 확인해보자###\n",
        "\n",
        "- 2차원 이미지를 바로 predict에 넣으면 오류 발생 가능!\n",
        "\n",
        "- 모델은 학습(fit)할때 3차원 피쳐를 입력받음(train_images)\n",
        "- 예측(predict)도 3차원 데이터(test_images)"
      ],
      "metadata": {
        "id": "73MZfajZLHL2"
      }
    },
    {
      "cell_type": "code",
      "source": [
        "# 2차원 데이터를 3차원으로(임의로 차원 추가, axis에 따라 어디에 차원을 추가할지 결정)\n",
        "np.expand_dims(test_images[0], axis=0).shape\n",
        "np.expand_dims(test_images[1], axis=0).shape\n",
        "np.expand_dims(test_images[2], axis=0).shape"
      ],
      "metadata": {
        "trusted": true,
        "id": "kNghYSSpxSn-",
        "colab": {
          "base_uri": "https://localhost:8080/"
        },
        "outputId": "c250ee3f-62be-4fb2-bd7a-a68defebde76"
      },
      "execution_count": null,
      "outputs": [
        {
          "output_type": "execute_result",
          "data": {
            "text/plain": [
              "(1, 28, 28)"
            ]
          },
          "metadata": {},
          "execution_count": 33
        }
      ]
    },
    {
      "cell_type": "code",
      "source": [
        "# 첫번째 test 이미지 예측 결과 확인\n",
        "pred_0 = model.predict(np.expand_dims(test_images[0], axis=0))\n",
        "print('softmax output:', pred_0)"
      ],
      "metadata": {
        "trusted": true,
        "id": "mdnJUJA3xSn-",
        "colab": {
          "base_uri": "https://localhost:8080/"
        },
        "outputId": "bf28defb-703d-4290-d1c7-059b7ff392b8"
      },
      "execution_count": null,
      "outputs": [
        {
          "output_type": "stream",
          "name": "stdout",
          "text": [
            "1/1 [==============================] - 0s 18ms/step\n",
            "softmax output: [[3.0295617e-19 9.4388746e-16 0.0000000e+00 1.2710967e-19 4.6345282e-21\n",
            "  2.1684323e-02 5.2192121e-07 6.4725084e-03 5.2843717e-07 9.7184205e-01]]\n"
          ]
        }
      ]
    },
    {
      "cell_type": "code",
      "source": [
        "# 첫번째 test 이미지의 클래스 확인\n",
        "# numpy.squeeze : 차원을 하나 늘렸으니 줄이기\n",
        "# numpy.argmax : 배열(array)에서 최댓값의 인덱스를 반환\n",
        "\n",
        "pred_0_class = np.argmax(np.squeeze(pred_0))\n",
        "print('predicted class value:', pred_0_class)"
      ],
      "metadata": {
        "id": "sxzxct8rPVfd",
        "colab": {
          "base_uri": "https://localhost:8080/"
        },
        "outputId": "3a9d6305-b03d-4850-eb9b-49e27cc14f67"
      },
      "execution_count": null,
      "outputs": [
        {
          "output_type": "stream",
          "name": "stdout",
          "text": [
            "predicted class value: 0\n"
          ]
        }
      ]
    },
    {
      "cell_type": "code",
      "source": [
        "# 실제 값과 예측 값 확인\n",
        "#class_names = ['T-shirt/top', 'Trouser', 'Pullover', 'Dress', 'Coat','Sandal', 'Shirt', 'Sneaker', 'Bag', 'Ankle boot']\n",
        "print('target class value:', test_labels[0])\n",
        "print('predicted class value:', pred_0_class)"
      ],
      "metadata": {
        "trusted": true,
        "id": "etBn7BLrxSn-",
        "colab": {
          "base_uri": "https://localhost:8080/"
        },
        "outputId": "9ccc9470-442b-4ac4-fa6b-5903f518ebb3"
      },
      "execution_count": null,
      "outputs": [
        {
          "output_type": "stream",
          "name": "stdout",
          "text": [
            "target class value: 9.0\n",
            "predicted class value: 0\n"
          ]
        }
      ]
    },
    {
      "cell_type": "markdown",
      "source": [
        "### 테스트 데이터 세트로 모델 성능 검증"
      ],
      "metadata": {
        "id": "bbOTvsv1xSn-"
      }
    },
    {
      "cell_type": "code",
      "source": [
        "# 테스트 데이터로 모델 평가(batch_size는 64)\n",
        "model.evaluate(test_images, test_oh_labels, batch_size=64)"
      ],
      "metadata": {
        "trusted": true,
        "id": "WbjRTCfjxSn_",
        "colab": {
          "base_uri": "https://localhost:8080/"
        },
        "outputId": "349320af-cab9-4d1d-e99e-0dba24137fdf"
      },
      "execution_count": null,
      "outputs": [
        {
          "output_type": "stream",
          "name": "stdout",
          "text": [
            "157/157 [==============================] - 0s 2ms/step - loss: 0.4410 - accuracy: 0.8595\n"
          ]
        },
        {
          "output_type": "execute_result",
          "data": {
            "text/plain": [
              "[0.4410327076911926, 0.859499990940094]"
            ]
          },
          "metadata": {},
          "execution_count": 36
        }
      ]
    }
  ]
}